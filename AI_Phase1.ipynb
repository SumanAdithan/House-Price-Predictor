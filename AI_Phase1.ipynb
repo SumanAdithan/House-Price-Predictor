{
 "cells": [
  {
   "cell_type": "code",
   "execution_count": 107,
   "id": "a190bfa4-0b43-4357-9149-cfe102c3737c",
   "metadata": {},
   "outputs": [
    {
     "name": "stdout",
     "output_type": "stream",
     "text": [
      "   Avg. Area Income  Avg. Area House Age  Avg. Area Number of Rooms  \\\n",
      "0      79545.458574             5.682861                   7.009188   \n",
      "1      79248.642455             6.002900                   6.730821   \n",
      "2      61287.067179             5.865890                   8.512727   \n",
      "\n",
      "   Avg. Area Number of Bedrooms  Area Population         Price  \\\n",
      "0                          4.09     23086.800503  1.059034e+06   \n",
      "1                          3.09     40173.072174  1.505891e+06   \n",
      "2                          5.13     36882.159400  1.058988e+06   \n",
      "\n",
      "                                             Address  \n",
      "0  208 Michael Ferry Apt. 674\\nLaurabury, NE 3701...  \n",
      "1  188 Johnson Views Suite 079\\nLake Kathleen, CA...  \n",
      "2  9127 Elizabeth Stravenue\\nDanieltown, WI 06482...  \n",
      "information:\n",
      "<class 'pandas.core.frame.DataFrame'>\n",
      "RangeIndex: 5000 entries, 0 to 4999\n",
      "Data columns (total 7 columns):\n",
      " #   Column                        Non-Null Count  Dtype  \n",
      "---  ------                        --------------  -----  \n",
      " 0   Avg. Area Income              5000 non-null   float64\n",
      " 1   Avg. Area House Age           5000 non-null   float64\n",
      " 2   Avg. Area Number of Rooms     5000 non-null   float64\n",
      " 3   Avg. Area Number of Bedrooms  5000 non-null   float64\n",
      " 4   Area Population               5000 non-null   float64\n",
      " 5   Price                         5000 non-null   float64\n",
      " 6   Address                       5000 non-null   object \n",
      "dtypes: float64(6), object(1)\n",
      "memory usage: 273.6+ KB\n",
      "None\n"
     ]
    }
   ],
   "source": [
    "# importing necessary libraries\n",
    "import pandas as pd\n",
    "import numpy as np\n",
    "import matplotlib.pyplot as plt\n",
    "import seaborn as sns\n",
    "%matplotlib inline\n",
    "\n",
    "# importing data\n",
    "df = pd.read_csv('./USA_Housing.csv')\n",
    "\n",
    "# displaying data to get an overview\n",
    "print(df.head(3))\n",
    "\n",
    "# displaying an information about data\n",
    "print(\"information:\")\n",
    "print(df.info())"
   ]
  },
  {
   "cell_type": "code",
   "execution_count": 108,
   "id": "3e09dd45-8bdf-4670-b578-1f4ca73ec499",
   "metadata": {},
   "outputs": [
    {
     "name": "stdout",
     "output_type": "stream",
     "text": [
      "Index(['Avg. Area Income', 'Avg. Area House Age', 'Avg. Area Number of Rooms',\n",
      "       'Avg. Area Number of Bedrooms', 'Area Population', 'Price'],\n",
      "      dtype='object')\n",
      "Index(['Address'], dtype='object')\n",
      "Address    863\n",
      "Name: 1, dtype: int32\n"
     ]
    }
   ],
   "source": [
    "# importing necessary libraries\n",
    "from sklearn.preprocessing import LabelEncoder\n",
    "from sklearn.model_selection import train_test_split\n",
    "from sklearn.impute import SimpleImputer\n",
    "\n",
    "# data preprocessing\n",
    "# data cleaning\n",
    "\n",
    "# handling missing values\n",
    "numeric_cols = df.select_dtypes(include='number').columns\n",
    "categorical_cols = df.select_dtypes(exclude='number').columns\n",
    "print(numeric_cols)\n",
    "print(categorical_cols)\n",
    "\n",
    "imputer_numeric = SimpleImputer(strategy='mean')\n",
    "imputer_categorical = SimpleImputer(strategy='most_frequent')\n",
    "\n",
    "df[numeric_cols] = imputer_numeric.fit_transform(df[numeric_cols])\n",
    "df[categorical_cols] = imputer_categorical.fit_transform(df[categorical_cols])\n",
    "\n",
    "# Convert Categorical Features to Numerical\n",
    "label_encoder = LabelEncoder()\n",
    "for col in categorical_cols:\n",
    "    df[col] = label_encoder.fit_transform(df[col])\n",
    "    \n",
    "# display categorical column data after numerical conversion\n",
    "print(df[categorical_cols].loc[1])"
   ]
  },
  {
   "cell_type": "code",
   "execution_count": 109,
   "id": "dcabd2d2-46c6-4fe1-905c-83d2b4c6f50b",
   "metadata": {},
   "outputs": [
    {
     "name": "stdout",
     "output_type": "stream",
     "text": [
      "Index(['Avg. Area Income', 'Avg. Area House Age', 'Avg. Area Number of Rooms',\n",
      "       'Avg. Area Number of Bedrooms', 'Area Population', 'Price', 'Address'],\n",
      "      dtype='object')\n",
      "X:\n",
      " Avg. Area Income                79248.642455\n",
      "Avg. Area House Age                 6.002900\n",
      "Avg. Area Number of Rooms           6.730821\n",
      "Avg. Area Number of Bedrooms        3.090000\n",
      "Area Population                 40173.072174\n",
      "Name: 1, dtype: float64\n",
      "y:\n",
      " 1505890.91484695\n"
     ]
    }
   ],
   "source": [
    "# determining features & target variable\n",
    "print(df.columns)\n",
    "\n",
    "X=df[['Avg. Area Income', 'Avg. Area House Age', 'Avg. Area Number of Rooms',\n",
    "       'Avg. Area Number of Bedrooms', 'Area Population']]\n",
    "# display single data from X\n",
    "print('X:\\n',X.loc[1])\n",
    "\n",
    "y=df['Price']\n",
    "# display single data from y\n",
    "print('y:\\n',y.loc[1])"
   ]
  },
  {
   "cell_type": "code",
   "execution_count": 110,
   "id": "00cc41d9-d39d-4534-8c00-7daf7931cb7b",
   "metadata": {},
   "outputs": [
    {
     "name": "stdout",
     "output_type": "stream",
     "text": [
      "                                       coef\n",
      "Avg. Area Income                  21.617635\n",
      "Avg. Area House Age           165221.119872\n",
      "Avg. Area Number of Rooms     121405.376596\n",
      "Avg. Area Number of Bedrooms    1318.718783\n",
      "Area Population                   15.225196\n"
     ]
    },
    {
     "data": {
      "text/plain": [
       "<matplotlib.collections.PathCollection at 0x241e1434d90>"
      ]
     },
     "execution_count": 110,
     "metadata": {},
     "output_type": "execute_result"
    },
    {
     "data": {
      "image/png": "[encoded data removed]",
      "text/plain": [
       "<Figure size 640x480 with 1 Axes>"
      ]
     },
     "metadata": {},
     "output_type": "display_data"
    }
   ],
   "source": [
    "# importing necessary library\n",
    "from sklearn.model_selection import train_test_split\n",
    "from sklearn.linear_model import LinearRegression\n",
    "\n",
    "# spliting the dataset to train and test \n",
    "X_train, X_test, y_train, y_test = train_test_split(X, y, test_size=0.3, random_state=101)\n",
    "\n",
    "# training the model\n",
    "model= LinearRegression()\n",
    "model.fit(X_train, y_train)\n",
    "print(pd.DataFrame(model.coef_, X.columns, columns=['coef']))\n",
    "\n",
    "# perdicting test data\n",
    "predictions=model.predict(X_test)\n",
    "plt.scatter(y_test, predictions)"
   ]
  },
  {
   "cell_type": "code",
   "execution_count": 111,
   "id": "2a17cbb7-2220-4ccb-8d49-4aec05de8cef",
   "metadata": {},
   "outputs": [
    {
     "name": "stdout",
     "output_type": "stream",
     "text": [
      "MAE: 81257.55795855941\n",
      "R-Squared: 0.9185060945363622\n",
      "RSME: 100842.08231635048\n"
     ]
    }
   ],
   "source": [
    "# importing necessary libraries\n",
    "from sklearn import metrics\n",
    "\n",
    "# evaluating the model\n",
    "print('MAE:', metrics.mean_absolute_error(y_test,predictions))\n",
    "print('R-Squared:', metrics.r2_score(y_test,predictions))\n",
    "print('RSME:', np.sqrt(metrics.mean_squared_error(y_test,predictions)))"
   ]
  }
 ],
 "metadata": {
  "kernelspec": {
   "display_name": "Python 3 (ipykernel)",
   "language": "python",
   "name": "python3"
  },
  "language_info": {
   "codemirror_mode": {
    "name": "ipython",
    "version": 3
   },
   "file_extension": ".py",
   "mimetype": "text/x-python",
   "name": "python",
   "nbconvert_exporter": "python",
   "pygments_lexer": "ipython3",
   "version": "3.11.5"
  }
 },
 "nbformat": 4,
 "nbformat_minor": 5
}
